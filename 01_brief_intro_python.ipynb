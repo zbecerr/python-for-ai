{
 "cells": [
  {
   "cell_type": "markdown",
   "id": "25babeac",
   "metadata": {
    "id": "25babeac",
    "tags": []
   },
   "source": [
    "<img src='images/Practicum_AI_Logo.white_outline.svg' width=250 alt='Practicum AI logo'> <img src='https://github.com/PracticumAI/practicumai.github.io/blob/main/images/icons/practicumai_python.png?raw=true' align='right' width=50>\n",
    "\n",
    "***\n",
    "\n",
    "# Python for AI\n",
    "\n",
    "In this module, you will learn the basics of the Python programming language. While Python is a full language with lots of functionality, the reality is that to **do** AI, you need relatively little code. With the basics covered in these modules, you should be set to get started. We will add additional Python sections to introduce more information later, but this should get you well on your way!\n",
    "\n",
    "### After this module, students will be able to:\n",
    "* Define what a variable is and how the basic Python operators work.\n",
    "* Recognize the importance of a consistent coding style and clear documentation.\n",
    "* Analyze Python error messages and identify corrective action to fix them.\n",
    "* Describe the various Python data types and be able to typecast a variable.\n",
    "* Discuss the importance of reusability and how libraries implement this concept.\n",
    "* Use import statements to access library functions.\n",
    "* Write clearly documented single-purpose functions.\n",
    "* Develop a personal coding style which reflects coding best practices."
   ]
  },
  {
   "cell_type": "markdown",
   "id": "5418d338",
   "metadata": {},
   "source": [
    "### Before we start, a few important tips:\n",
    "1. This file is a **Jupyter notebook**. It combines `text cells` and `code cells` and is useful as a hybrid didactic/experiential learning environment. In practice, Jupyter notebooks are often used for rapid code prototyping or communicating code and results in an understandable way.\n",
    "\n",
    "2. Jupyter notebooks are *interactive*, and any code inside a code block is **executable**! Users will see the results of running code blocks directly inside the notebook.\n",
    "\n",
    "3. There are 2 ways to execute a code cell:\n",
    "    1. Select (click) the cell, and click the ▶️ button at the top o the notebook (or to the left of the cell in Google Colab) to execute the code.\n",
    "    2. Select the cell, and press `Control + Enter` (on Mac, `Command + Enter`)\n",
    "    \n",
    "4. To add a new cell, click the `+ Code` or `+ Text` button in the tool bar at the top of the screen. (*Colab*)\n",
    "\n",
    "5. To delete an entire cell, select the cell and click the 🗑️ button in the cell's tool bar. (*Colab*)"
   ]
  },
  {
   "cell_type": "markdown",
   "id": "1134ab8f",
   "metadata": {
    "id": "1134ab8f"
   },
   "source": [
    "## <img src='images/get_started_icon.svg' alt=\"Let's get started header\" width=40 align=center> Let's Get Started!"
   ]
  },
  {
   "cell_type": "markdown",
   "id": "36ab2293",
   "metadata": {
    "id": "36ab2293"
   },
   "source": [
    "## Variables "
   ]
  },
  {
   "cell_type": "markdown",
   "id": "41045501",
   "metadata": {
    "id": "41045501"
   },
   "source": [
    "* Variables are names for values.  Or, more precisely, they are named memory locations.\n",
    "* In Python the `=` symbol assigns the value on the right to the name on the left.\n",
    "* The variable is created when a value is assigned to it.\n",
    "Here, Python assigns an integer (whole number) to the variable `age` and a string (text) to the variable `day_of_week`.\n",
    "\n",
    "Let's run the below code to create two new variables and assign them the given values."
   ]
  },
  {
   "cell_type": "code",
   "execution_count": null,
   "id": "1baffa9d",
   "metadata": {
    "id": "1baffa9d"
   },
   "outputs": [],
   "source": [
    "age = 42\n",
    "day_of_week = 'Wednesday'"
   ]
  },
  {
   "cell_type": "markdown",
   "id": "dab0eaf0",
   "metadata": {
    "id": "dab0eaf0"
   },
   "source": [
    "We will return to naming variables later in this notebook, but for now remember that variable names:\n",
    "\n",
    "* Can contain **only** letters, digits and underscores (\"`_`\")\n",
    "* Cannot start with a digit\n",
    "* Should be meaningful, describing the data that they hold\n",
    "* Cannot be a Python reserved word"
   ]
  },
  {
   "cell_type": "markdown",
   "id": "2f52fa13",
   "metadata": {},
   "source": [
    "### <img src='images/exercise_icon.svg' alt=\"Exercise icon\" width=40 align=center> Exercise 1\n",
    "> Create a new variable called `first_name` and assign it the value of your first name. ***Hint:*** Since   this variable will contain letters, it is known as a string variable. The values stored in string variables must be enclosed by quotation marks (Either single or double quotes work...as long as you are consistent...). Example: `\"this is some text\"`"
   ]
  },
  {
   "cell_type": "code",
   "execution_count": null,
   "id": "c6d4f31b-dd54-43b9-8fba-e5e1f4f8f0a6",
   "metadata": {},
   "outputs": [],
   "source": [
    "# Your code here\n"
   ]
  },
  {
   "cell_type": "markdown",
   "id": "cf40adb4",
   "metadata": {
    "id": "cf40adb4"
   },
   "source": [
    "## Use `print` to display text and variable values\n",
    "* Python has a built-in **function** called `print` that prints (i.e., displays) information to the screen. (Don't worry, we'll discuss functions a bit later.)\n",
    "* Call the function (i.e., tell Python to run it) by using its name, followed by ***input arguments*** (values) to the function (i.e., the things to print) in **parentheses**.\n",
    "* `print` can be used to see what value is contained in a particular variable."
   ]
  },
  {
   "cell_type": "code",
   "execution_count": null,
   "id": "15d7d43e",
   "metadata": {
    "colab": {
     "base_uri": "https://localhost:8080/"
    },
    "id": "15d7d43e",
    "outputId": "98eaba5a-4121-4d78-dea7-825f713e0905"
   },
   "outputs": [],
   "source": [
    "print('Hello world!')"
   ]
  },
  {
   "cell_type": "code",
   "execution_count": null,
   "id": "0020d760",
   "metadata": {},
   "outputs": [],
   "source": [
    "print(age)"
   ]
  },
  {
   "cell_type": "code",
   "execution_count": null,
   "id": "1d7e17d4",
   "metadata": {},
   "outputs": [],
   "source": [
    "print(first_name)"
   ]
  },
  {
   "cell_type": "markdown",
   "id": "1d3ccfb3",
   "metadata": {
    "id": "1d3ccfb3"
   },
   "source": [
    "### Variables must be created before they are used.\n",
    "\n",
    "If a variable doesn't exist yet, or the variable name has been mis-spelled, Python reports an error."
   ]
  },
  {
   "cell_type": "code",
   "execution_count": null,
   "id": "a944d837",
   "metadata": {
    "id": "a944d837"
   },
   "outputs": [],
   "source": [
    "print(last_name)"
   ]
  },
  {
   "cell_type": "markdown",
   "id": "c4f3cd36",
   "metadata": {
    "id": "c4f3cd36"
   },
   "source": [
    "### <img src='images/note_icon.svg' alt=\"Note icon\" width=40 align=center> Note\n",
    "> We expect an error above!\n",
    "> You will undoubtedly make mistakes! You will see lots of error messages! Don't worry! We all get them. The trick is to try and figure out how to fix them when we get an error. We will look at error messages in more detail later."
   ]
  },
  {
   "cell_type": "markdown",
   "id": "81456549-4852-49c9-80fa-81b112a521e1",
   "metadata": {},
   "source": [
    "In this case, the last line of the error message is:\n",
    "```python\n",
    "NameError: name 'last_name' is not defined\n",
    "```\n",
    "So, we see we have a `NameError` and the explanation is that `last_name` is not defined. Hopefully that reminds us that we haven't created a last_name variable."
   ]
  },
  {
   "cell_type": "markdown",
   "id": "c8bdaf35",
   "metadata": {
    "id": "c8bdaf35"
   },
   "source": [
    "### Python keeps track of your variables and their current values (and order matters!).\n",
    "\n",
    "###  <img src='images/alert_icon.svg' alt=\"Alert icon\" width=40 align=center> Alert!\n",
    "> It is the **order of execution** of cells that is important, **not the order in which they appear in the notebook**. Nothing stops you from running any code cell in this notebook in any order you like (aside from potential errors!). If different code cells modify the same variable, it can sometimes lead to unexpected behavior.\n",
    "\n",
    "To demonstrate this point, let's look at the following 2 code cells.\n",
    "\n",
    "*Code cell 1:*"
   ]
  },
  {
   "cell_type": "code",
   "execution_count": null,
   "id": "bf8c7a64",
   "metadata": {
    "colab": {
     "base_uri": "https://localhost:8080/",
     "height": 186
    },
    "id": "bf8c7a64",
    "outputId": "57daa3a9-4930-4554-bb21-a272fe0bca5f"
   },
   "outputs": [],
   "source": [
    "print (myval)"
   ]
  },
  {
   "cell_type": "markdown",
   "id": "defff42a",
   "metadata": {},
   "source": [
    "*Code cell 2:*"
   ]
  },
  {
   "cell_type": "code",
   "execution_count": null,
   "id": "d9c1b187",
   "metadata": {
    "id": "d9c1b187"
   },
   "outputs": [],
   "source": [
    "myval = 1"
   ]
  },
  {
   "cell_type": "markdown",
   "id": "17402c0f-324a-4e1f-98eb-a1a31a6fd09d",
   "metadata": {},
   "source": [
    "If you try to execute the cells in order in which they appear (first cell 1, then cell 2), the first cell will give an error. However, if you run cell 2, and **then** run cell 1, it will correctly print the value of `myval` (since the `myval` variable was created by running cell 2.)\n",
    "\n",
    "### <img src='images/tip_icon.svg' alt=\"Tip icon\" width=40 align=center> Tip\n",
    "> To prevent confusion (or just to start fresh), it can sometimes be helpful to use resest things.\n",
    ">* In **Jupyter**: Kernel menu > Restart Kernel\n",
    ">* In **Google Colab**: Runtime menu > Restart Runtime\n",
    ">\n",
    ">This clears all variables stored in memory. After selecting this option, you start your notebook from a clean slate!"
   ]
  },
  {
   "cell_type": "markdown",
   "id": "4ef66dcd",
   "metadata": {},
   "source": [
    "### Variables can be used in calculations.\n",
    "We can use variables in calculations just as if they were values!"
   ]
  },
  {
   "cell_type": "code",
   "execution_count": null,
   "id": "a7e7c92d",
   "metadata": {},
   "outputs": [],
   "source": [
    "age = 40\n",
    "age_plus = age + 3\n",
    "print(f'Age in three years: {age_plus}')"
   ]
  },
  {
   "cell_type": "markdown",
   "id": "cba832ba",
   "metadata": {
    "id": "cba832ba"
   },
   "source": [
    "### Assigning variables\n",
    "If you want to keep a value for future reference, you need to assign it to a variable. Otherwise, the value disappears into the void! For example, after running the cell below, the value of `z` remains `3`, and the value of `9` is lost, because it was not assigned to a variable."
   ]
  },
  {
   "cell_type": "code",
   "execution_count": null,
   "id": "26a00b2a",
   "metadata": {
    "id": "26a00b2a"
   },
   "outputs": [],
   "source": [
    "z = 3\n",
    "print(z + 6)"
   ]
  },
  {
   "cell_type": "code",
   "execution_count": null,
   "id": "d46c9233",
   "metadata": {
    "id": "d46c9233"
   },
   "outputs": [],
   "source": [
    "print(z)"
   ]
  },
  {
   "cell_type": "markdown",
   "id": "546c16fc",
   "metadata": {
    "id": "546c16fc"
   },
   "source": [
    "## Order of Operations\n",
    "Remember the acronym **PEMDAS** from math class? Python follows the same order, evaluating items in the order: Parentheses, Exponentiation, Multiplication, Division, Addition, and Subtraction.\n",
    "\n",
    "<img src=\"images/pemdas.gif\" />\n",
    "\n",
    "**Parentheses** are helpful in complex expressions and can be used for clarity, but they are not technically required. This aligns with the overall philosophy of Python, that code should be written for clarity of reading.\n",
    "\n",
    "There's a common saying: \n",
    "> Code is written once but read many times.\n",
    "\n",
    "**Do your best to make your code simple to read!**"
   ]
  },
  {
   "cell_type": "markdown",
   "id": "nNVTOE9yOQWw",
   "metadata": {
    "id": "nNVTOE9yOQWw"
   },
   "source": [
    "### <img src='images/exercise_icon.svg' alt=\"Exercise icon\" width=40 align=center> Exercise 2\n",
    "> Compute this expression: $\\frac{100 - 5^3}{5}$.\n",
    "> * *Hint 1:* $5^3$ can be written in code as `5**3` (5^3 does not work!).\n",
    "> * *Hint 2:* The answer should be -5.0.\n"
   ]
  },
  {
   "cell_type": "code",
   "execution_count": null,
   "id": "b0750797",
   "metadata": {
    "id": "b0750797"
   },
   "outputs": [],
   "source": [
    "# Add your code here\n"
   ]
  },
  {
   "cell_type": "markdown",
   "id": "b864290b",
   "metadata": {
    "id": "b864290b"
   },
   "source": [
    "###  <img src='images/exercise_icon.svg' alt=\"Exercise icon\" width=40 align=center> Exercise 3\n",
    "\n",
    "> Divide 15 by 4 and add 6 (the answer should be: 9.75)."
   ]
  },
  {
   "cell_type": "code",
   "execution_count": null,
   "id": "39a13254",
   "metadata": {
    "id": "39a13254"
   },
   "outputs": [],
   "source": [
    "# Add your code here\n"
   ]
  },
  {
   "cell_type": "markdown",
   "id": "35a757b5",
   "metadata": {
    "id": "35a757b5"
   },
   "source": [
    "## Integer and Float Types\n",
    "\n",
    "Python has many data **types**, or ways of storing the variable's data in memory. Since each type has different properties, it is important to keep track of what type is being used for each variable. Many coding errors are due to variables being stored as the wrong type. Python has a method to determine the type of a variable, the `type()` method.\n",
    "\n",
    "###  <img src='images/definition_icon.svg' alt=\"Definition icon\" width=40 align=center> Definition\n",
    "> An **integer** is a whole number without a decimal point, while a **float** is a number that includes a decimal point.\n",
    "\n",
    "Let's compare the **type** of `6` and `6.0`. In the cells below, try the code `type(6)` and `type(6.0)`. You should get `int` and `float` respectively for integer and floating point number."
   ]
  },
  {
   "cell_type": "code",
   "execution_count": null,
   "id": "253572ac",
   "metadata": {},
   "outputs": [],
   "source": [
    "print(type(6))"
   ]
  },
  {
   "cell_type": "code",
   "execution_count": null,
   "id": "fa6d9f42",
   "metadata": {},
   "outputs": [],
   "source": [
    "print(type(6.0))"
   ]
  },
  {
   "cell_type": "markdown",
   "id": "25548dd7",
   "metadata": {
    "id": "25548dd7"
   },
   "source": [
    "### <img src='images/exercise_icon.svg' alt=\"Exercise icon\" width=40 align=center> Exercise 4\n",
    "> Let's try looking at the **type** of a variable. Enter the following code in the empty code cell below, and see what you get!\n",
    ">\n",
    ">```python\n",
    ">x = 3.14\n",
    ">print(type(x))\n",
    ">```\n"
   ]
  },
  {
   "cell_type": "code",
   "execution_count": null,
   "id": "916cb7f6",
   "metadata": {},
   "outputs": [],
   "source": []
  },
  {
   "cell_type": "markdown",
   "id": "aff198cd",
   "metadata": {
    "id": "aff198cd"
   },
   "source": [
    "### <img src='images/exercise_icon.svg' alt=\"Exercise icon\" width=40 align=center> Exercise 5\n",
    "\n",
    "> Python will gladly convert a variable from one type to another, if it makes sense. Let's change `x` (which currently has the **float** value `3.14` to an **integer**, and assign the result to a new variable `y`.\n",
    ">\n",
    ">```python\n",
    ">y = int(x)\n",
    ">print(type(y))\n",
    ">```"
   ]
  },
  {
   "cell_type": "code",
   "execution_count": null,
   "id": "c7808e73",
   "metadata": {
    "id": "c7808e73"
   },
   "outputs": [],
   "source": []
  },
  {
   "cell_type": "markdown",
   "id": "3a5a7cf0",
   "metadata": {
    "id": "3a5a7cf0"
   },
   "source": [
    "### <img src='images/exercise_icon.svg' alt=\"Exercise icon\" width=40 align=center> Exercise 6\n",
    "> Finally, let's go the other way: convert an `int` (after running the previous cell, `y=3`) to a `float`:\n",
    ">\n",
    ">```python\n",
    ">z = float(y)\n",
    ">print(z)\n",
    ">print(type(z))\n",
    ">```\n",
    ">Note the `.0` added to the end to make the integer `3` into the float `3.0`."
   ]
  },
  {
   "cell_type": "code",
   "execution_count": null,
   "id": "4b980b98",
   "metadata": {
    "id": "4b980b98"
   },
   "outputs": [],
   "source": []
  },
  {
   "cell_type": "markdown",
   "id": "4ef85bb4-fc41-4cab-853a-58df58de1de7",
   "metadata": {},
   "source": [
    "## Variable Naming\n",
    "\n",
    "### Python is case-sensitive\n",
    "\n",
    "* Python treats upper- and lower-case letters as different, so `Name` and `name` are different variables.\n",
    "* We will follow the convention of using lower-case letters for variable names.\n",
    "\n",
    "### Use meaningful variable names\n",
    "\n",
    "* Python doesn't care what you call variables as long as they obey the rules (alphanumeric characters and the underscore)."
   ]
  },
  {
   "cell_type": "code",
   "execution_count": null,
   "id": "f81cf851-7096-4235-84a8-9cc742b85624",
   "metadata": {},
   "outputs": [],
   "source": [
    "flabadab = 42\n",
    "ewr_422_yY = 'Ahmed'\n",
    "print(f'{ewr_422_yY} is {flabadab} years old')"
   ]
  },
  {
   "cell_type": "markdown",
   "id": "00658c61-23f5-4a10-8686-b1f5e3d74c92",
   "metadata": {},
   "source": [
    "\n",
    "* Use meaningful variable names to help other people understand what the program does.\n",
    "* **The most important \"other person\" is your future self.**\n",
    "\n",
    "\n",
    "When naming variables, there are a few important rules:\n",
    "\n",
    "  * Some words are reserved for Python and cannot be used for variable names. The cell below will print a list of those words. These words have special meanings.\n",
    "  * Python variable names cannot start with a digit\n",
    "  * Python variable names cannot include special characters other than underscore(\"_\").\n",
    "\n",
    "### <img src='images/tip_icon.svg' alt=\"Tip icon\" width=40 align=center> Tip\n",
    "   > See the PEP8 Style Guide for coding recommendations: [https://www.python.org/dev/peps/pep-0008/](https://www.python.org/dev/peps/pep-0008/)\n",
    "\n",
    "While not written rules, it is best practice to:\n",
    "* Have variable names reflect what they store: `time` is far better than `t` or `x`.\n",
    "* Use plural names for variables that hold multiple items and single names for single items: `records` for a list of all records and `record` for a single record from the list.\n",
    "* Be consistent in using `camelCase` or `underscores_between_words`. PEP8 prefers underscores.\n",
    "*  Variable names that start with underscores, like `__alistairs_real_age`, have a special meaning so we won't do that until we understand the convention."
   ]
  },
  {
   "cell_type": "markdown",
   "id": "46fa6b77-57e5-4be2-85a5-9481b0163e97",
   "metadata": {
    "tags": []
   },
   "source": [
    "To see what happens, let's create a variable named 1st_name and assign it your name: e.g.\n",
    "\n",
    "  ```python\n",
    "  1st_name = 'Matt'\n",
    "  ```\n",
    "###  <img src='images/note_icon.svg' alt=\"Note icon\" width=40 align=center> Note\n",
    "   > You will get an error. Read he message and try to interpret it. Notice that the \"^\" (caret) points to where Python thinks the error is. That is close, but not exactly where the issue is. Sometimes the error can be a line or two above the caret--don't assume it is pointing to the code that caused the error. \n"
   ]
  },
  {
   "cell_type": "code",
   "execution_count": null,
   "id": "602a749a-fd1f-40e5-a783-1dfc1955aff6",
   "metadata": {},
   "outputs": [],
   "source": [
    "# Add your code here from above\n"
   ]
  },
  {
   "cell_type": "markdown",
   "id": "553e3538-c152-4ffb-8bc3-d4bd7492f043",
   "metadata": {},
   "source": [
    "Can you fix the variable name to one that works?"
   ]
  },
  {
   "cell_type": "code",
   "execution_count": null,
   "id": "7a2476f2-90fd-4888-89a6-aaf959f13526",
   "metadata": {},
   "outputs": [],
   "source": [
    "# Add your code here"
   ]
  },
  {
   "cell_type": "markdown",
   "id": "d69619b2-506b-44bd-bdba-a7213d213442",
   "metadata": {},
   "source": [
    "As another example of variables that are not allowed, run the following cell, then rename the variable in a way that removes the error."
   ]
  },
  {
   "cell_type": "code",
   "execution_count": null,
   "id": "a80d6bed-82e5-4a79-945c-a2cf0b2cb198",
   "metadata": {
    "tags": []
   },
   "outputs": [],
   "source": [
    "# Run this cell, observe the error, and fix it by changing the variable name\n",
    "my_$ = 100"
   ]
  },
  {
   "cell_type": "markdown",
   "id": "8cf74874",
   "metadata": {
    "id": "8cf74874"
   },
   "source": [
    "## Use #`comments` and \"\"\"`docstrings`\"\"\" to add documentation to programs.\n",
    "\n",
    "* Any text on a line **after the `#` symbol** is considered a **comment** and is ***ignored*** by the Python interpreter.\n",
    "\n",
    "* Comments are very useful for explaining lines or sections of code (for your team and even future self!)\n",
    "\n",
    "* In addition to comments, *strive to make your code self-documenting and easy to read*. Clear variable names, consistent structure and spacing, and logical flow all contribute to readability.\n",
    "\n",
    "* Alternatively, you can create multi-line **docstring** comments.  A docstring is enclosed by triple quotes (\"\"\").  These are usually used to document functions, but they come in handy whenever you have a multi-line block of documentation.\n",
    "\n",
    "Python **docstrings** are enclosed by triple quotes (\"\"\").  \n",
    "\n",
    "In all cases, the docstrings should use the triple quote (\"\"\") string format. This should be done whether the docstring is multi-lined or not. At a bare minimum, a docstring should be a quick summary of whatever is it you’re describing and should be contained within a single line:"
   ]
  },
  {
   "cell_type": "code",
   "execution_count": null,
   "id": "d68f7746",
   "metadata": {
    "id": "d68f7746"
   },
   "outputs": [],
   "source": [
    "# This sentence isn't executed by Python.\n",
    "adjustment = 0.5   # Neither is this - anything after '#' is ignored."
   ]
  },
  {
   "cell_type": "markdown",
   "id": "cd2873a3",
   "metadata": {
    "id": "cd2873a3"
   },
   "source": [
    "# Libraries\n",
    "### The power of a programming language is in its libraries.\n",
    "\n",
    "* A *library* is a collection of Python files (called *modules*) that contains pre-written code for use by other programs.\n",
    "* The Python *standard library* is built-in to Python itself (we've seen some examples: `print`, `type`)\n",
    "* Many additional libraries are available from [PyPI](https://pypi.python.org/pypi/) (the Python Package Index) and [GitHub](https://github.com).\n",
    "    * ***Coding for AI and machine learning relies heavily on libraries!***\n",
    "\n",
    "#### A Python file must `import` a library module before using it.\n",
    "\n",
    "* Use `import` to load a library module into a program's memory.\n",
    "* Then refer to things from the module as `module_name.thing_name`.\n",
    "    * Python uses `.` to mean \"part of\".\n",
    "* Here is an example of using the `math` library, one of the libraries in the standard library:\n",
    "\n",
    "###  <img src='images/definition_icon.svg' alt=\"Definition icon\" width=40 align=center> Definition\n",
    "> A **library** is a collection of modules, but *the terms are often used interchangeably* as many libraries consist of a single module.\n"
   ]
  },
  {
   "cell_type": "code",
   "execution_count": null,
   "id": "fdced80b",
   "metadata": {
    "id": "fdced80b"
   },
   "outputs": [],
   "source": [
    "import math\n",
    "print(f'pi is {math.pi}')\n",
    "print(f'cos(pi) is {math.cos(math.pi)}')"
   ]
  },
  {
   "cell_type": "markdown",
   "id": "c63a25a4",
   "metadata": {
    "id": "c63a25a4"
   },
   "source": [
    "### <img src='images/tip_icon.svg' alt=\"Tip icon\" width=40 align=center> Tip\n",
    "> Use `help` and `dir` to learn about the contents of a library module.  The dir() function is versatile in that it returns a list of attributes and methods for any kind of object (function, module, list, dictionary, etc.)."
   ]
  },
  {
   "cell_type": "code",
   "execution_count": null,
   "id": "5818b9ab",
   "metadata": {
    "id": "5818b9ab"
   },
   "outputs": [],
   "source": [
    "help(math)"
   ]
  },
  {
   "cell_type": "code",
   "execution_count": null,
   "id": "bab96f73-3c08-4378-afac-3f91c21c4dd0",
   "metadata": {},
   "outputs": [],
   "source": [
    "dir(math)"
   ]
  },
  {
   "cell_type": "markdown",
   "id": "bd50771d-e745-4e30-a2d2-f5e1bd5f7b17",
   "metadata": {},
   "source": [
    "#### Use `from <lib> import <obj>` to import specific object(s) from a library.\n",
    "\n",
    "Rather than import an entire library, you may want to import a single function or variable.  This reduces the amount of memory your program needs, and it's much faster than importing an entire library. For example, we can import just the pi variable with this line of code:"
   ]
  },
  {
   "cell_type": "code",
   "execution_count": null,
   "id": "d53eb4d1-130c-4160-a714-befeaa16f47f",
   "metadata": {},
   "outputs": [],
   "source": [
    "from math import pi\n",
    "\n",
    "# Print the pi variable\n",
    "pi"
   ]
  },
  {
   "cell_type": "markdown",
   "id": "d7f2073e-4ee2-47aa-b0a6-d4e659c6478e",
   "metadata": {},
   "source": [
    "#### To reduce typing, rename imported libraries using aliases.\n",
    "\n",
    "An alias is an abbreviation of a library's name.  We can import the math library, abbreviate it, and then reference it later as **m** in the code. "
   ]
  },
  {
   "cell_type": "code",
   "execution_count": null,
   "id": "bca772ce-0f34-4cdd-86d0-13b8b2978d6b",
   "metadata": {},
   "outputs": [],
   "source": [
    "import math as m\n",
    "\n",
    "# Print the pi variable\n",
    "m.pi"
   ]
  },
  {
   "cell_type": "markdown",
   "id": "5071cf2d",
   "metadata": {
    "id": "Ic5O-JZ73I7f"
   },
   "source": [
    "# Functions\n",
    "\n",
    ">You can think of a function as a small program inside a program. The basic idea of a function is that we write a sequence of statements and give that sequence a name. The instructions can then be executed at any point in the program by referring to the function name… when a function is subsequently used in a program, we say that the definition is called or invoked.\n",
    ">\n",
    ">John Zelle\n",
    "\n",
    "Functions make coding easier to write, read and maintain. They reduce repetition and provide discrete mini-programs that once written and tested can be used over and over.\n",
    "\n",
    "We've been using Python functions since the start...print is a function! But the really cool thing is that you can (and should) write functions too! Functions are not complicated or limited to people with special skills. Conversely they can make your coding much easier!\n",
    "\n",
    "Two good indication of times to write a function is when you are tempted to copy and paste code from one section into another to re-use it, or when you think \"in this part of my code, I need to do this thing....\"\n",
    "\n",
    "The repeated code can likely be made into a function and called when needed. And the \"thing\" that needs to be done can also likely be written as a function.\n",
    "\n",
    "### <img src='images/tip_icon.svg' alt=\"Tip icon\" width=40 align=center> Tip\n",
    "> It might be time to write a function when you're about to copy and paste code from one section into another to re-use it."
   ]
  },
  {
   "cell_type": "markdown",
   "id": "c73c7464",
   "metadata": {},
   "source": [
    "## Defining a Python function\n",
    "\n",
    "Below are the steps to creating your first Python function. Like a variable, a function must be defined before it can be used.\n",
    "\n",
    "1. Begin the definition of a new function with `def`, followed by an appropriate name for the function.\n",
    "2. Then, add parentheses `()` after the function name.\n",
    "3. Inside the parentheses, list any number of **input arguments**, separated by commas `,`, that your function will use (many functions take **no arguments**).\n",
    "4. Add a colon `:` after the closing parentheses.\n",
    "5. If you want the function to output something, add a `return` statement, followed by the variable or expression you want to return. A `return` statement is not necessary!\n",
    "6. **Important:** All code inside a function must be **indented**.\n",
    "\n",
    "Here's an example of a simple function that takes as input two numbers, and outputs the sum:\n",
    "\n",
    "```python\n",
    "def add(x,y):\n",
    "    return x + y\n",
    "```\n",
    "\n",
    "### <img src='images/exercise_icon.svg' alt=\"Exercise icon\" width=40 align=center> Exercise 7\n",
    "> Define the `add` function in code below:"
   ]
  },
  {
   "cell_type": "code",
   "execution_count": null,
   "id": "7398c39b",
   "metadata": {},
   "outputs": [],
   "source": [
    "# *Define* the add function displayed above\n"
   ]
  },
  {
   "cell_type": "markdown",
   "id": "b4d5b12c",
   "metadata": {},
   "source": [
    "###  <img src='images/note_icon.svg' alt=\"Note icon\" width=40 align=center> Note\n",
    "> **Defining** a function does not run the code inside the function, it simply creates the function for later use.\n",
    "\n",
    "To **call** a function, write it's name followed by zero or more comma-separated input arguments. Here's an example of defining, and then calling, a simple function: \n",
    "\n",
    "```python\n",
    "# Define the function\n",
    "def print_number(a):\n",
    "    print(a)\n",
    "    \n",
    "# Call the function\n",
    "a = 7\n",
    "print_number(a) # One way\n",
    "print_number(7) # Another way\n",
    "```"
   ]
  },
  {
   "cell_type": "markdown",
   "id": "eebb7097",
   "metadata": {},
   "source": [
    "### <img src='images/exercise_icon.svg' alt=\"Exercise icon\" width=40 align=center> Exercise 8\n",
    "> Call the `add` function we already defined, to add two numbers of your choosing."
   ]
  },
  {
   "cell_type": "code",
   "execution_count": null,
   "id": "000b30bf",
   "metadata": {},
   "outputs": [],
   "source": [
    "# *Call* the add function using any two numbers\n"
   ]
  },
  {
   "cell_type": "markdown",
   "id": "cc0e03c7",
   "metadata": {},
   "source": [
    "### <img src='images/exercise_icon.svg' alt=\"Exercise icon\" width=40 align=center> Exercise 9\n",
    "> Create a function that takes **any** number as input, and outputs the **square** of that number. Example: An input of 6 will output 36. **Hint:** In Python code, `x ** 2` will compute $x^2$. "
   ]
  },
  {
   "cell_type": "code",
   "execution_count": null,
   "id": "2c837d51",
   "metadata": {},
   "outputs": [],
   "source": [
    "# Create a function to compute the square of any input number.\n"
   ]
  },
  {
   "cell_type": "markdown",
   "id": "ec54678e",
   "metadata": {},
   "source": [
    "### BONUS: Positional arguments\n",
    "\n",
    "In the `add` function above, `x` and `y` are **positional arguments** - the order arguments are passed to the function matters."
   ]
  },
  {
   "cell_type": "code",
   "execution_count": null,
   "id": "dd33fc6d",
   "metadata": {},
   "outputs": [],
   "source": [
    "def order(x,y):\n",
    "    print(x)\n",
    "    print(y)\n",
    "    \n",
    "order(3,4)\n",
    "print() # print() with no arguments will add a blank line to the output.\n",
    "order(4,3)"
   ]
  },
  {
   "cell_type": "markdown",
   "id": "74092fa8",
   "metadata": {},
   "source": [
    "### BONUS : Default values\n",
    "\n",
    "* Functions may have default values for some input arguments.\n",
    "* If an argument has a default value, the function will use that value unless the user specifies something different for that particular variable."
   ]
  },
  {
   "cell_type": "code",
   "execution_count": null,
   "id": "68b38517",
   "metadata": {},
   "outputs": [],
   "source": [
    "def add(x,y=1):\n",
    "    result = x + y\n",
    "    return result\n",
    "\n",
    "print(add(2))\n",
    "\n",
    "print(add(2,6))"
   ]
  },
  {
   "cell_type": "markdown",
   "id": "1f2593a9",
   "metadata": {},
   "source": [
    "### BONUS : Function variable scope\n",
    "\n",
    "* Variables created inside functions are **locally scoped**, which means they are only accessible inside of the function that created them.\n",
    "    * Once the function has been executed, any variables created inside the function are removed from memory! (Use `return` to send the outputs back to the main program)\n",
    "* Variables created outside of functions are **globally scoped**, and can be accesssed anywhere once the variable is created."
   ]
  },
  {
   "cell_type": "code",
   "execution_count": null,
   "id": "16ae018e",
   "metadata": {},
   "outputs": [],
   "source": [
    "def waste_of_code(): # This function doesn't do anything!\n",
    "    x = 3\n",
    "\n",
    "# Let's optimistically call the waste_of_code() function.\n",
    "# Perhaps we would expect to now have a variable x with value equal to 3.\n",
    "waste_of_code()\n",
    "    \n",
    "# This will result in an error! (x has not been defined outside of the function)\n",
    "print(x)"
   ]
  },
  {
   "cell_type": "markdown",
   "id": "a466a4d3-6f11-486f-9ecf-e58fc9c698f0",
   "metadata": {},
   "source": [
    "Can you fix the `waste_of_code` function to return the value of x? You will also need to assign the returned value to a variable."
   ]
  },
  {
   "cell_type": "code",
   "execution_count": null,
   "id": "ca8da266-19ea-42c9-b9de-c2efaf9f8f95",
   "metadata": {},
   "outputs": [],
   "source": []
  },
  {
   "cell_type": "markdown",
   "id": "ada71e00-9833-484b-baaf-ef6cd5550c32",
   "metadata": {},
   "source": [
    "***\n",
    "#### Attribution \n",
    "Some content in this learning experience was adapted from Ben Shickel's [AI for Medicine bootcamp](https://github.com/gatorai/scripps) content. "
   ]
  }
 ],
 "metadata": {
  "colab": {
   "provenance": []
  },
  "kernelspec": {
   "display_name": "UFRC Python-3.10",
   "language": "python",
   "name": "python3-3.10-ufrc"
  },
  "language_info": {
   "codemirror_mode": {
    "name": "ipython",
    "version": 3
   },
   "file_extension": ".py",
   "mimetype": "text/x-python",
   "name": "python",
   "nbconvert_exporter": "python",
   "pygments_lexer": "ipython3",
   "version": "3.10.5"
  },
  "vscode": {
   "interpreter": {
    "hash": "442d0c0e479a9a390f050bd5e20dc551a2c9cfe478296c9d47f476f59d719e25"
   }
  }
 },
 "nbformat": 4,
 "nbformat_minor": 5
}
